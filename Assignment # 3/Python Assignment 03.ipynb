{
 "cells": [
  {
   "cell_type": "code",
   "execution_count": 1,
   "id": "07c296f8",
   "metadata": {},
   "outputs": [
    {
     "name": "stdout",
     "output_type": "stream",
     "text": [
      "Twinkle, twinkle, little star,\n",
      "         How I wonder what you are!\n",
      "                 Up above the world so high,\n",
      "                 Like a diamond in the sky.\n",
      "Twinkle, twinkle, little star,\n",
      "         How I wonder what you are\n"
     ]
    }
   ],
   "source": [
    "# 1. Write a Python program to print the following string in a specific format (see the\n",
    "# output).\n",
    "\n",
    "# Twinkle, twinkle, little star,\n",
    "#          How I wonder what you are!\n",
    "#                 Up above the world so high,\n",
    "#                 Like a diamond in the sky.\n",
    "# Twinkle, twinkle, little star,\n",
    "#          How I wonder what you are\n",
    "print(\"Twinkle, twinkle, little star,\\n         How I wonder what you are!\\n                 Up above the world so high,\\n                 Like a diamond in the sky.\\nTwinkle, twinkle, little star,\\n         How I wonder what you are\");"
   ]
  },
  {
   "cell_type": "code",
   "execution_count": 2,
   "id": "e87dac2a",
   "metadata": {},
   "outputs": [
    {
     "name": "stdout",
     "output_type": "stream",
     "text": [
      "3.8.8\n"
     ]
    }
   ],
   "source": [
    "# 2. Write a Python program to get the Python version you are using\n",
    "from platform import python_version\n",
    "print(python_version());"
   ]
  },
  {
   "cell_type": "code",
   "execution_count": 4,
   "id": "0c3a7eb2",
   "metadata": {},
   "outputs": [
    {
     "name": "stdout",
     "output_type": "stream",
     "text": [
      "23-Oct-2021, 01:12:48 AM\n"
     ]
    }
   ],
   "source": [
    "# 3. Write a Python program to display the current date and time.\n",
    "from datetime import datetime;\n",
    "d= datetime.now();\n",
    "showdt= d.strftime(\"%d-%b-%Y, %I:%M:%S %p\");\n",
    "print(showdt);"
   ]
  },
  {
   "cell_type": "code",
   "execution_count": 5,
   "id": "0e484488",
   "metadata": {},
   "outputs": [
    {
     "name": "stdout",
     "output_type": "stream",
     "text": [
      "Please Enter radius: 4\n",
      "50.24\n"
     ]
    }
   ],
   "source": [
    "# 4. Write a Python program which accepts the radius of a circle from the user and compute\n",
    "# the area.\n",
    "r = int(input(\"Please Enter radius: \"))\n",
    "Area = 3.14 * (r**2)\n",
    "print(Area);"
   ]
  },
  {
   "cell_type": "code",
   "execution_count": 7,
   "id": "fda66747",
   "metadata": {},
   "outputs": [
    {
     "name": "stdout",
     "output_type": "stream",
     "text": [
      "Enter First Name: Muhammad\n",
      "Enter Last Name: Bilal\n",
      "Bilal Muhammad\n"
     ]
    }
   ],
   "source": [
    "# 5. Write a Python program which accepts the user's first and last name and print them in\n",
    "# reverse order with a space between them.\n",
    "fname = input(\"Enter First Name: \");\n",
    "lname = input(\"Enter Last Name: \");\n",
    "print(lname,fname);"
   ]
  },
  {
   "cell_type": "code",
   "execution_count": 9,
   "id": "6abe2bde",
   "metadata": {},
   "outputs": [
    {
     "name": "stdout",
     "output_type": "stream",
     "text": [
      "First one Please Enter a number 16\n",
      "second one please Enter a number 45\n",
      "Addition between both users is:  61\n"
     ]
    }
   ],
   "source": [
    "# 6. Write a python program which takes two inputs from user and print them addition\n",
    "user1 = int(input(\"First one Please Enter a number \"));\n",
    "user2 = int(input(\"second one please Enter a number \"));\n",
    "add = user1 + user2;\n",
    "print(\"Addition between both users is: \", add);"
   ]
  },
  {
   "cell_type": "code",
   "execution_count": 28,
   "id": "2ad32cce",
   "metadata": {},
   "outputs": [
    {
     "name": "stdout",
     "output_type": "stream",
     "text": [
      "Student Marksheet\n",
      "Student Name: Muhammad Bilal\n",
      "Father Name: Muhammad Shehzad\n",
      "Student Age: 20\n",
      "Institution: Online Jawan Pakistan\n",
      "<=================================>\n",
      "Enter Your English Marks: 49\n",
      "Enter Your Pakistan Studies Marks: 55\n",
      "Enter Your Urdu Marks: 83\n",
      "Enter Your Maths Marks: 96\n",
      "Enter Your Science Marks: 84\n",
      "The Total Marks Obtained is: 367\n",
      "The Student Grade is: A\n"
     ]
    }
   ],
   "source": [
    "# 7. Write a program which takes 5 inputs from user for different subject’s marks, total it\n",
    "# and generate mark sheet using grades ?\n",
    "print('Student Marksheet');\n",
    "print('Student Name: Muhammad Bilal');\n",
    "print('Father Name: Muhammad Shehzad');\n",
    "print('Student Age: 20');\n",
    "print('Institution: Online Jawan Pakistan'); \n",
    "print('<=================================>');\n",
    "english = int(input(\"Enter Your English Marks: \"));\n",
    "pakStd = int(input(\"Enter Your Pakistan Studies Marks: \"));\n",
    "urdu = int(input(\"Enter Your Urdu Marks: \"));\n",
    "maths = int(input(\"Enter Your Maths Marks: \"));\n",
    "science = int(input(\"Enter Your Science Marks: \"));\n",
    "total = english + pakStd + urdu + maths + science;\n",
    "print(\"The Total Marks Obtained is:\" , total);\n",
    "percentage = ((total)/500 * 100);\n",
    "if percentage < 100 and percentage >= 80:\n",
    "    print(\"The Student Grade is: A+\");\n",
    "elif percentage < 80 and percentage >= 70:\n",
    "    print(\"The Student Grade is: A\");\n",
    "elif percentage < 70 and percentage >= 60:\n",
    "    print(\"The Student Grade is: B\");\n",
    "elif percentage < 60 and percentage >= 50:\n",
    "    print(\"The Student Grade is: C\");\n",
    "elif percentage < 50 and percentage >= 40:\n",
    "    print(\"The Student Grade is: D\");\n",
    "elif percentage < 40 and percentage >= 0:\n",
    "    print(\"Sorry! You are Fail\");\n",
    "else:\n",
    "    print(\"Please Enter the Appropriate Percentage\");\n"
   ]
  },
  {
   "cell_type": "code",
   "execution_count": 11,
   "id": "6efc572c",
   "metadata": {},
   "outputs": [
    {
     "name": "stdout",
     "output_type": "stream",
     "text": [
      "Enter Even or Odd number: 4\n",
      "4 is even number\n"
     ]
    }
   ],
   "source": [
    "# 8. Write a program which take input from user and identify that the given number is even\n",
    "# or odd?\n",
    "u1= int(input(\"Enter Even or Odd number: \"))\n",
    "if(u1 % 2 == 0):\n",
    "    print(u1,\"is even number\");\n",
    "else:\n",
    "    print(u1,\"is Odd number\");"
   ]
  },
  {
   "cell_type": "code",
   "execution_count": 17,
   "id": "c67502e4",
   "metadata": {},
   "outputs": [
    {
     "data": {
      "text/plain": [
       "6"
      ]
     },
     "execution_count": 17,
     "metadata": {},
     "output_type": "execute_result"
    }
   ],
   "source": [
    "# 9. Write a program which print the length of the list?\n",
    "data = [\"Ali\", \"Bilal\", \"Anees\" , True, 13, 46]\n",
    "len(data)"
   ]
  },
  {
   "cell_type": "code",
   "execution_count": 18,
   "id": "a48849db",
   "metadata": {},
   "outputs": [
    {
     "name": "stdout",
     "output_type": "stream",
     "text": [
      "99\n"
     ]
    }
   ],
   "source": [
    "# 10.Write a Python program to sum all the numeric items in a list?\n",
    "list = [2,45,17,21,10,4]\n",
    "print(sum(list));"
   ]
  },
  {
   "cell_type": "code",
   "execution_count": 19,
   "id": "2857bc0c",
   "metadata": {},
   "outputs": [
    {
     "name": "stdout",
     "output_type": "stream",
     "text": [
      "100\n"
     ]
    }
   ],
   "source": [
    "# 11.Write a Python program to get the largest number from a numeric list.\n",
    "mylist = [20,100,10,1,20]\n",
    "print(max(mylist));"
   ]
  },
  {
   "cell_type": "code",
   "execution_count": 20,
   "id": "567b1b3c",
   "metadata": {},
   "outputs": [
    {
     "name": "stdout",
     "output_type": "stream",
     "text": [
      "1\n",
      "1\n",
      "2\n",
      "3\n"
     ]
    }
   ],
   "source": [
    "# 12. Take a list, say for example this one:\n",
    "# a = [1, 1, 2, 3, 5, 8, 13, 21, 34, 55, 89]\n",
    "# Write a program that prints out all the elements of the list that are less than 5.\n",
    "a = [1, 1, 2, 3, 5, 8, 13, 21, 34, 55, 89]\n",
    "for i in a:\n",
    "    if i < 5:\n",
    "        print(i);"
   ]
  },
  {
   "cell_type": "code",
   "execution_count": null,
   "id": "019590ec",
   "metadata": {},
   "outputs": [],
   "source": []
  }
 ],
 "metadata": {
  "kernelspec": {
   "display_name": "Python 3",
   "language": "python",
   "name": "python3"
  },
  "language_info": {
   "codemirror_mode": {
    "name": "ipython",
    "version": 3
   },
   "file_extension": ".py",
   "mimetype": "text/x-python",
   "name": "python",
   "nbconvert_exporter": "python",
   "pygments_lexer": "ipython3",
   "version": "3.8.8"
  }
 },
 "nbformat": 4,
 "nbformat_minor": 5
}
